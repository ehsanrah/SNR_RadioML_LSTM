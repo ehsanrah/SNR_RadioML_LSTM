{
 "cells": [
  {
   "cell_type": "code",
   "execution_count": 2,
   "metadata": {
    "id": "nN6BovYY-Tmx"
   },
   "outputs": [],
   "source": [
    "#Import necessary packages\n",
    "import keras\n",
    "import numpy as np\n",
    "import math\n",
    "from keras.datasets import fashion_mnist\n",
    "from keras.models import Sequential\n",
    "from keras.layers import Dense, Conv2D, Flatten, MaxPooling2D, Dropout, Reshape, LSTM\n",
    "import matplotlib.pyplot as plt\n",
    "import pickle as cPickle\n"
   ]
  },
  {
   "cell_type": "markdown",
   "metadata": {
    "id": "pwGLik0vR9QO"
   },
   "source": [
    "# Creating a CLDNN"
   ]
  },
  {
   "cell_type": "markdown",
   "metadata": {
    "id": "ZPvQiIC_R9-T"
   },
   "source": [
    "Run the code in the block below 'as is.' After executing, the high SNR RadioML training and testing data will be stored in the arrays X_train and X_test, respectively. Their respective one-hot labels will be stored in Y_train and Y_test. "
   ]
  },
  {
   "cell_type": "code",
   "execution_count": null,
   "metadata": {
    "colab": {
     "base_uri": "https://localhost:8080/"
    },
    "id": "B9F5o0d0SBbs",
    "outputId": "52d2904a-995b-4816-f410-fcd43900a077"
   },
   "outputs": [
    {
     "name": "stdout",
     "output_type": "stream",
     "text": [
      "RML2016.10b.dat\n",
      "LICENSE.TXT\n"
     ]
    }
   ],
   "source": [
    "#Download RML 2016.10b dataset and untar file\n",
    "!wget http://opendata.deepsig.io/datasets/2016.10/RML2016.10b.tar.bz2\n",
    "!tar -xvjf RML2016.10b.tar.bz2\n",
    "\n",
    "#Extract high SNR data and obtain their corresponding lables \n",
    "Xd = cPickle.load(open(\"RML2016.10b.dat\",'rb'), encoding='latin1')\n",
    "snrs,mods = map(lambda j: sorted(list(set(map(lambda x: x[j], Xd.keys())))), [1,0])\n",
    "X = []\n",
    "lbl = []\n",
    "for mod in mods:\n",
    "    for snr in snrs:\n",
    "        if snr > 0:\n",
    "            X.append(Xd[(mod,snr)])\n",
    "            for i in range(Xd[(mod,snr)].shape[0]):  lbl.append((mod,snr))\n",
    "X = np.vstack(X)\n",
    "\n",
    "np.random.seed(2016)\n",
    "n_examples = X.shape[0]\n",
    "n_train = n_examples * 0.8\n",
    "n_train = int(n_train)\n",
    "train_idx = np.random.choice(range(0,n_examples), size=n_train, replace=False)\n",
    "test_idx = list(set(range(0,n_examples))-set(train_idx))\n",
    "X_train = X[train_idx]\n",
    "X_test =  X[test_idx]\n",
    "def to_onehot(yy):\n",
    "    yy = list(yy)\n",
    "    yy1 = np.zeros([len(yy), max(yy)+1])\n",
    "    yy1[np.arange(len(yy)),yy] = 1\n",
    "    return yy1\n",
    "Y_train = to_onehot(map(lambda x: mods.index(lbl[x][0]), train_idx))\n",
    "Y_test = to_onehot(map(lambda x: mods.index(lbl[x][0]), test_idx))\n",
    "\n",
    "#Re-shape data to appropriate dimensions \n",
    "X_train = X_train.reshape(432000, 2, 128, 1)\n",
    "X_test = X_test.reshape(108000, 2, 128, 1)"
   ]
  },
  {
   "cell_type": "code",
   "execution_count": null,
   "metadata": {
    "colab": {
     "base_uri": "https://localhost:8080/"
    },
    "id": "Rb8Ag9MWSFOC",
    "outputId": "16b3382b-91f5-425d-ab8c-a2f4f75b1893"
   },
   "outputs": [
    {
     "name": "stdout",
     "output_type": "stream",
     "text": [
      "Epoch 1/70\n",
      "106/106 [==============================] - 189s 2s/step - loss: 2.0867 - accuracy: 0.1681 - val_loss: 1.9451 - val_accuracy: 0.1972\n",
      "Epoch 2/70\n",
      "106/106 [==============================] - 168s 2s/step - loss: 1.8618 - accuracy: 0.2461 - val_loss: 1.6819 - val_accuracy: 0.2936\n",
      "Epoch 3/70\n",
      "106/106 [==============================] - 169s 2s/step - loss: 1.6469 - accuracy: 0.3119 - val_loss: 1.5358 - val_accuracy: 0.3374\n",
      "Epoch 4/70\n",
      "106/106 [==============================] - 169s 2s/step - loss: 1.4730 - accuracy: 0.3706 - val_loss: 1.2875 - val_accuracy: 0.4466\n",
      "Epoch 5/70\n",
      "106/106 [==============================] - 169s 2s/step - loss: 1.2665 - accuracy: 0.4354 - val_loss: 1.0661 - val_accuracy: 0.4791\n",
      "Epoch 6/70\n",
      "106/106 [==============================] - 168s 2s/step - loss: 1.0717 - accuracy: 0.4873 - val_loss: 0.9437 - val_accuracy: 0.5250\n",
      "Epoch 7/70\n",
      "106/106 [==============================] - 169s 2s/step - loss: 0.9834 - accuracy: 0.5304 - val_loss: 0.8318 - val_accuracy: 0.6129\n",
      "Epoch 8/70\n",
      "106/106 [==============================] - 169s 2s/step - loss: 0.8819 - accuracy: 0.5976 - val_loss: 0.8010 - val_accuracy: 0.6321\n",
      "Epoch 9/70\n",
      "106/106 [==============================] - 169s 2s/step - loss: 0.7600 - accuracy: 0.6549 - val_loss: 0.9695 - val_accuracy: 0.5827\n",
      "Epoch 10/70\n",
      "106/106 [==============================] - 169s 2s/step - loss: 0.6708 - accuracy: 0.6893 - val_loss: 0.6655 - val_accuracy: 0.6840\n",
      "Epoch 11/70\n",
      "106/106 [==============================] - 169s 2s/step - loss: 0.6231 - accuracy: 0.7082 - val_loss: 0.5057 - val_accuracy: 0.7476\n",
      "Epoch 12/70\n",
      "106/106 [==============================] - 169s 2s/step - loss: 0.5794 - accuracy: 0.7241 - val_loss: 0.4966 - val_accuracy: 0.7495\n",
      "Epoch 13/70\n",
      "106/106 [==============================] - 169s 2s/step - loss: 0.5704 - accuracy: 0.7318 - val_loss: 0.5127 - val_accuracy: 0.7479\n",
      "Epoch 14/70\n",
      "106/106 [==============================] - 169s 2s/step - loss: 0.5247 - accuracy: 0.7499 - val_loss: 0.4137 - val_accuracy: 0.7745\n",
      "Epoch 15/70\n",
      "106/106 [==============================] - 169s 2s/step - loss: 0.4837 - accuracy: 0.7609 - val_loss: 0.3947 - val_accuracy: 0.7900\n",
      "Epoch 16/70\n",
      "106/106 [==============================] - 168s 2s/step - loss: 0.4637 - accuracy: 0.7707 - val_loss: 0.3900 - val_accuracy: 0.7948\n",
      "Epoch 17/70\n",
      "106/106 [==============================] - 169s 2s/step - loss: 0.4297 - accuracy: 0.7825 - val_loss: 0.3701 - val_accuracy: 0.7990\n",
      "Epoch 18/70\n",
      "106/106 [==============================] - 169s 2s/step - loss: 0.4211 - accuracy: 0.7843 - val_loss: 0.4010 - val_accuracy: 0.7936\n",
      "Epoch 19/70\n",
      "106/106 [==============================] - 169s 2s/step - loss: 0.4092 - accuracy: 0.7886 - val_loss: 0.3599 - val_accuracy: 0.8028\n",
      "Epoch 20/70\n",
      "106/106 [==============================] - 169s 2s/step - loss: 0.3951 - accuracy: 0.7930 - val_loss: 0.4305 - val_accuracy: 0.7793\n",
      "Epoch 21/70\n",
      "106/106 [==============================] - 169s 2s/step - loss: 0.3781 - accuracy: 0.7972 - val_loss: 0.3339 - val_accuracy: 0.8142\n",
      "Epoch 22/70\n",
      "106/106 [==============================] - 169s 2s/step - loss: 0.3673 - accuracy: 0.8016 - val_loss: 0.3323 - val_accuracy: 0.8118\n",
      "Epoch 23/70\n",
      "106/106 [==============================] - 168s 2s/step - loss: 0.3632 - accuracy: 0.8027 - val_loss: 0.3243 - val_accuracy: 0.8173\n",
      "Epoch 24/70\n",
      "106/106 [==============================] - 169s 2s/step - loss: 0.3530 - accuracy: 0.8073 - val_loss: 0.3197 - val_accuracy: 0.8144\n",
      "Epoch 25/70\n",
      "106/106 [==============================] - 169s 2s/step - loss: 0.3503 - accuracy: 0.8092 - val_loss: 0.5075 - val_accuracy: 0.7610\n",
      "Epoch 26/70\n",
      "106/106 [==============================] - 169s 2s/step - loss: 0.3448 - accuracy: 0.8110 - val_loss: 0.3569 - val_accuracy: 0.8050\n",
      "Epoch 27/70\n",
      "106/106 [==============================] - 169s 2s/step - loss: 0.3377 - accuracy: 0.8139 - val_loss: 0.3416 - val_accuracy: 0.8083\n",
      "Epoch 28/70\n",
      "106/106 [==============================] - 168s 2s/step - loss: 0.3391 - accuracy: 0.8137 - val_loss: 0.3051 - val_accuracy: 0.8259\n",
      "Epoch 29/70\n",
      "106/106 [==============================] - 169s 2s/step - loss: 0.3244 - accuracy: 0.8185 - val_loss: 0.5177 - val_accuracy: 0.7534\n",
      "Epoch 30/70\n",
      "106/106 [==============================] - 168s 2s/step - loss: 0.3279 - accuracy: 0.8180 - val_loss: 0.3022 - val_accuracy: 0.8294\n",
      "Epoch 31/70\n",
      "106/106 [==============================] - 169s 2s/step - loss: 0.3191 - accuracy: 0.8229 - val_loss: 0.3035 - val_accuracy: 0.8298\n",
      "Epoch 32/70\n",
      "106/106 [==============================] - 168s 2s/step - loss: 0.3220 - accuracy: 0.8237 - val_loss: 0.3128 - val_accuracy: 0.8246\n",
      "Epoch 33/70\n",
      "106/106 [==============================] - 169s 2s/step - loss: 0.3205 - accuracy: 0.8264 - val_loss: 0.3003 - val_accuracy: 0.8309\n",
      "Epoch 34/70\n",
      "106/106 [==============================] - 168s 2s/step - loss: 0.3107 - accuracy: 0.8325 - val_loss: 0.3079 - val_accuracy: 0.8283\n",
      "Epoch 35/70\n",
      "106/106 [==============================] - 169s 2s/step - loss: 0.3050 - accuracy: 0.8382 - val_loss: 0.2788 - val_accuracy: 0.8569\n",
      "Epoch 36/70\n",
      "106/106 [==============================] - 169s 2s/step - loss: 0.3009 - accuracy: 0.8432 - val_loss: 0.2809 - val_accuracy: 0.8539\n",
      "Epoch 37/70\n",
      "106/106 [==============================] - 169s 2s/step - loss: 0.2933 - accuracy: 0.8484 - val_loss: 0.2972 - val_accuracy: 0.8430\n",
      "Epoch 38/70\n",
      "106/106 [==============================] - 168s 2s/step - loss: 0.2915 - accuracy: 0.8510 - val_loss: 0.2780 - val_accuracy: 0.8522\n",
      "Epoch 39/70\n",
      "106/106 [==============================] - 169s 2s/step - loss: 0.2849 - accuracy: 0.8563 - val_loss: 0.2774 - val_accuracy: 0.8607\n",
      "Epoch 40/70\n",
      "106/106 [==============================] - 168s 2s/step - loss: 0.2817 - accuracy: 0.8579 - val_loss: 0.2898 - val_accuracy: 0.8524\n",
      "Epoch 41/70\n",
      "106/106 [==============================] - 169s 2s/step - loss: 0.2792 - accuracy: 0.8601 - val_loss: 0.2629 - val_accuracy: 0.8709\n",
      "Epoch 42/70\n",
      "106/106 [==============================] - 168s 2s/step - loss: 0.2758 - accuracy: 0.8628 - val_loss: 0.2488 - val_accuracy: 0.8769\n",
      "Epoch 43/70\n",
      "106/106 [==============================] - 168s 2s/step - loss: 0.2686 - accuracy: 0.8653 - val_loss: 0.2617 - val_accuracy: 0.8680\n",
      "Epoch 44/70\n",
      "106/106 [==============================] - 168s 2s/step - loss: 0.2678 - accuracy: 0.8664 - val_loss: 0.2844 - val_accuracy: 0.8586\n",
      "Epoch 45/70\n",
      "106/106 [==============================] - 169s 2s/step - loss: 0.2649 - accuracy: 0.8690 - val_loss: 0.2526 - val_accuracy: 0.8740\n",
      "Epoch 46/70\n",
      "106/106 [==============================] - 168s 2s/step - loss: 0.2636 - accuracy: 0.8695 - val_loss: 0.2389 - val_accuracy: 0.8821\n",
      "Epoch 47/70\n",
      "106/106 [==============================] - 168s 2s/step - loss: 0.2576 - accuracy: 0.8723 - val_loss: 0.2478 - val_accuracy: 0.8768\n",
      "Epoch 48/70\n",
      "106/106 [==============================] - 168s 2s/step - loss: 0.2574 - accuracy: 0.8722 - val_loss: 0.2412 - val_accuracy: 0.8802\n",
      "Epoch 49/70\n",
      "106/106 [==============================] - 168s 2s/step - loss: 0.2524 - accuracy: 0.8751 - val_loss: 0.2379 - val_accuracy: 0.8847\n",
      "Epoch 50/70\n",
      "106/106 [==============================] - 168s 2s/step - loss: 0.2511 - accuracy: 0.8756 - val_loss: 0.2450 - val_accuracy: 0.8751\n",
      "Epoch 51/70\n",
      "106/106 [==============================] - 168s 2s/step - loss: 0.2484 - accuracy: 0.8772 - val_loss: 0.2524 - val_accuracy: 0.8744\n",
      "Epoch 52/70\n",
      "106/106 [==============================] - 168s 2s/step - loss: 0.2499 - accuracy: 0.8769 - val_loss: 0.2239 - val_accuracy: 0.8896\n",
      "Epoch 53/70\n",
      "106/106 [==============================] - 168s 2s/step - loss: 0.2464 - accuracy: 0.8785 - val_loss: 0.2249 - val_accuracy: 0.8910\n",
      "Epoch 54/70\n",
      "106/106 [==============================] - 168s 2s/step - loss: 0.2422 - accuracy: 0.8798 - val_loss: 0.2554 - val_accuracy: 0.8718\n",
      "Epoch 55/70\n",
      "106/106 [==============================] - 168s 2s/step - loss: 0.2401 - accuracy: 0.8815 - val_loss: 0.2319 - val_accuracy: 0.8857\n",
      "Epoch 56/70\n",
      "106/106 [==============================] - 168s 2s/step - loss: 0.2388 - accuracy: 0.8824 - val_loss: 0.2334 - val_accuracy: 0.8831\n",
      "Epoch 57/70\n",
      "106/106 [==============================] - 168s 2s/step - loss: 0.2375 - accuracy: 0.8833 - val_loss: 0.2246 - val_accuracy: 0.8909\n",
      "Epoch 58/70\n",
      "106/106 [==============================] - 168s 2s/step - loss: 0.2353 - accuracy: 0.8836 - val_loss: 0.2425 - val_accuracy: 0.8783\n",
      "Epoch 59/70\n",
      "106/106 [==============================] - 168s 2s/step - loss: 0.2328 - accuracy: 0.8849 - val_loss: 0.3066 - val_accuracy: 0.8535\n",
      "Epoch 60/70\n",
      "106/106 [==============================] - 168s 2s/step - loss: 0.2331 - accuracy: 0.8851 - val_loss: 0.2202 - val_accuracy: 0.8925\n",
      "Epoch 61/70\n",
      "106/106 [==============================] - 168s 2s/step - loss: 0.2298 - accuracy: 0.8866 - val_loss: 0.2546 - val_accuracy: 0.8757\n",
      "Epoch 62/70\n",
      "106/106 [==============================] - 168s 2s/step - loss: 0.2290 - accuracy: 0.8873 - val_loss: 0.2187 - val_accuracy: 0.8876\n",
      "Epoch 63/70\n",
      "106/106 [==============================] - 169s 2s/step - loss: 0.2265 - accuracy: 0.8879 - val_loss: 0.2220 - val_accuracy: 0.8932\n",
      "Epoch 64/70\n",
      "106/106 [==============================] - 168s 2s/step - loss: 0.2274 - accuracy: 0.8881 - val_loss: 0.2075 - val_accuracy: 0.8976\n",
      "Epoch 65/70\n",
      "106/106 [==============================] - 169s 2s/step - loss: 0.2243 - accuracy: 0.8895 - val_loss: 0.2084 - val_accuracy: 0.8975\n",
      "Epoch 66/70\n",
      "106/106 [==============================] - 168s 2s/step - loss: 0.2225 - accuracy: 0.8899 - val_loss: 0.2482 - val_accuracy: 0.8820\n",
      "Epoch 67/70\n",
      "106/106 [==============================] - 168s 2s/step - loss: 0.2205 - accuracy: 0.8915 - val_loss: 0.2176 - val_accuracy: 0.8877\n",
      "Epoch 68/70\n",
      "106/106 [==============================] - 168s 2s/step - loss: 0.2199 - accuracy: 0.8913 - val_loss: 0.2179 - val_accuracy: 0.8919\n",
      "Epoch 69/70\n",
      "106/106 [==============================] - 168s 2s/step - loss: 0.2187 - accuracy: 0.8917 - val_loss: 0.2175 - val_accuracy: 0.8930\n",
      "Epoch 70/70\n",
      "106/106 [==============================] - 168s 2s/step - loss: 0.2161 - accuracy: 0.8929 - val_loss: 0.2063 - val_accuracy: 0.8988\n",
      "3375/3375 [==============================] - 45s 13ms/step - loss: 0.2063 - accuracy: 0.8988\n",
      "Accuracy: 89.88%\n"
     ]
    }
   ],
   "source": [
    "num_classes=10\n",
    "#Create and train model architecture\n",
    "def cldnn():\n",
    "    model = Sequential()\n",
    "    \n",
    "    # Bild a 2D Convolutional layer with 256 feature maps and a 3x3 filter\n",
    "    model.add(Conv2D(256 , (1,3), activation = 'relu', input_shape = (2,128,1)))\n",
    "    \n",
    "    # Randomly freezes 20% of weights in previous layer to prevent over fitting\n",
    "    model.add(Dropout(0.2))\n",
    "    \n",
    "    # Add a 2D Convolutional layer with \n",
    "    model.add(Conv2D(256, (2,3), activation = 'relu' ))\n",
    "    \n",
    "    # Add a 2D Convolutional layer with \n",
    "    model.add(Conv2D(80, (1,3), activation = 'relu' ))\n",
    "\n",
    "    # Randomly freezes 20% of weights in previous layer to prevent over fitting\n",
    "    model.add(Dropout(0.2))\n",
    "\n",
    "    # Add a 2D Convolutional layer with \n",
    "    model.add(Conv2D(80, (1,3), activation = 'relu' ))\n",
    "\n",
    "    # Reshape\n",
    "    model.add(Reshape((120,80)))\n",
    "\n",
    "    # LSTM layer\n",
    "    model.add(LSTM(50))\n",
    "    \n",
    "    # Add Dense layer with 128 perceptrons\n",
    "    model.add(Dense(128, activation = \"relu\", kernel_initializer = \"normal\"))\n",
    "    \n",
    "    #Output layer with num_classes perceptrons\n",
    "    model.add(Dense(num_classes, activation = \"softmax\"))\n",
    "    \n",
    "    return model\n",
    "\n",
    "#Create instance of CNN model graph\n",
    "CLDNN_model = cldnn()\n",
    "\n",
    "#Compile model using an appropriate loss and optimizer algorithm\n",
    "CLDNN_model.compile(loss = 'categorical_crossentropy', optimizer = 'RMSprop', metrics = ['accuracy'])\n",
    "\n",
    "#Train the model and assign training meta-data to a variable\n",
    "CLDNN_model_mdata = CLDNN_model.fit(X_train, Y_train, validation_data = (X_test, Y_test), epochs =70, batch_size = 4096, shuffle = True)\n",
    "\n",
    "#Print accuracy of model on testing set after training \n",
    "scores = CLDNN_model.evaluate(X_test, Y_test)\n",
    "\n",
    "print(\"Accuracy: %.2f%%\" %(scores[1]*100))"
   ]
  },
  {
   "cell_type": "markdown",
   "metadata": {
    "id": "KAiyaAUS_IBC"
   },
   "source": [
    "#Finding the number of active neurons in relu case"
   ]
  },
  {
   "cell_type": "code",
   "execution_count": null,
   "metadata": {
    "id": "QbaZz5HF_N6k"
   },
   "outputs": [],
   "source": [
    "# Extract the Model Outputs for all the Layers\n",
    "Model_Outputs = [layer.output for layer in model.layers]\n",
    "# Create a Model with Model Input as Input and the Model Outputs as Output\n",
    "Activation_Model = Model(model.input, Model_Outputs)\n",
    "Activations = Activation_Model.predict(Image_Tensor)"
   ]
  },
  {
   "cell_type": "code",
   "execution_count": null,
   "metadata": {
    "colab": {
     "base_uri": "https://localhost:8080/",
     "height": 295
    },
    "id": "T3OqkKYrSJmq",
    "outputId": "923b240d-b37c-4f4d-ab24-d24dd9a28c36"
   },
   "outputs": [
    {
     "data": {
      "image/png": "[encoded data removed]",
      "text/plain": [
       "<Figure size 432x288 with 1 Axes>"
      ]
     },
     "metadata": {
      "needs_background": "light"
     },
     "output_type": "display_data"
    }
   ],
   "source": [
    "#Plot accuracy vs epoch\n",
    "plt.plot(CLDNN_model_mdata.history['accuracy'])\n",
    "plt.plot(CLDNN_model_mdata.history['val_accuracy'])\n",
    "plt.title('CNN accuracy vs. Epoch')\n",
    "plt.ylabel('Accuracy')\n",
    "plt.xlabel('Epoch')\n",
    "plt.legend(['train','test'], loc='upper left')\n",
    "plt.show()"
   ]
  },
  {
   "cell_type": "code",
   "execution_count": null,
   "metadata": {
    "colab": {
     "base_uri": "https://localhost:8080/",
     "height": 295
    },
    "id": "9R7EbKTtSKNs",
    "outputId": "986d50d9-fe28-4822-d327-f837db15781e"
   },
   "outputs": [
    {
     "data": {
      "image/png": "[encoded data removed]",
      "text/plain": [
       "<Figure size 432x288 with 1 Axes>"
      ]
     },
     "metadata": {
      "needs_background": "light"
     },
     "output_type": "display_data"
    }
   ],
   "source": [
    "#Plot loss vs epoch\n",
    "plt.plot(CLDNN_model_mdata.history['loss'])\n",
    "plt.plot(CLDNN_model_mdata.history['val_loss'])\n",
    "plt.title('CNN Loss vs. Epoch')\n",
    "plt.ylabel('Loss')\n",
    "plt.xlabel('Epoch')\n",
    "plt.legend(['train','test'], loc='upper left')\n",
    "plt.show()"
   ]
  }
 ],
 "metadata": {
  "accelerator": "GPU",
  "colab": {
   "collapsed_sections": [],
   "name": "Project_1_Solution_code.ipynb",
   "provenance": []
  },
  "kernelspec": {
   "display_name": "Python 3",
   "language": "python",
   "name": "python3"
  },
  "language_info": {
   "codemirror_mode": {
    "name": "ipython",
    "version": 3
   },
   "file_extension": ".py",
   "mimetype": "text/x-python",
   "name": "python",
   "nbconvert_exporter": "python",
   "pygments_lexer": "ipython3",
   "version": "3.8.8"
  }
 },
 "nbformat": 4,
 "nbformat_minor": 1
}
